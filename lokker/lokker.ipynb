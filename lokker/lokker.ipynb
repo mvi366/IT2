{
 "cells": [
  {
   "cell_type": "code",
   "execution_count": 7,
   "metadata": {},
   "outputs": [
    {
     "name": "stdout",
     "output_type": "stream",
     "text": [
      "hello, world\n",
      "10\n",
      "9\n",
      "8\n",
      "7\n",
      "6\n",
      "5\n",
      "4\n",
      "3\n",
      "2\n",
      "1\n",
      "2\n",
      "4\n",
      "6\n",
      "8\n",
      "10\n",
      "12\n",
      "14\n",
      "16\n",
      "18\n",
      "20\n"
     ]
    }
   ],
   "source": [
    "print(\"hello, world\")\n",
    "test = 123\n",
    "teller = 10\n",
    "while teller > 0:\n",
    "    print(teller)\n",
    "    teller -= 1\n",
    "\n",
    "teller = 2 \n",
    "while teller <= 20:\n",
    "    print(teller)\n",
    "    teller += 2\n",
    "\n"
   ]
  },
  {
   "cell_type": "code",
   "execution_count": 4,
   "metadata": {},
   "outputs": [
    {
     "name": "stdout",
     "output_type": "stream",
     "text": [
      "123\n"
     ]
    }
   ],
   "source": [
    "# for løkker\n",
    "# gå gjennom en sekvens\n",
    "# en samling med \"ting\", f. eks en liste med tall eller en ordbok med nøkler.\n",
    "\n",
    "for tall in [1,2,3,4,5,6,7,8,9,10]:\n",
    "    print(tall)\n",
    "\n"
   ]
  },
  {
   "cell_type": "code",
   "execution_count": 10,
   "metadata": {},
   "outputs": [
    {
     "name": "stdout",
     "output_type": "stream",
     "text": [
      "1\n",
      "2\n",
      "3\n",
      "4\n",
      "5\n",
      "6\n",
      "7\n",
      "8\n",
      "9\n",
      "10\n",
      "0\n",
      "1\n",
      "2\n",
      "3\n",
      "4\n",
      "5\n",
      "6\n",
      "7\n",
      "10\n",
      "9\n",
      "8\n",
      "7\n",
      "6\n",
      "5\n",
      "4\n",
      "3\n",
      "2\n",
      "1\n"
     ]
    }
   ],
   "source": [
    "# range\n",
    "# range(start, slutt_før, steg)\n",
    "# som vi kan bruke i for løkker\n",
    "\n",
    "for tall in range(1, 11, 1):\n",
    "    print(tall)\n",
    "\n",
    "# hvis vi starter på 0 trenger vi ikke skrive start-argument\n",
    "    #hvis vi skal øke med en trenger vu ikke skrive steg argument¨\n",
    "# print fra 0 - 7\n",
    "    \n",
    "for tall in range(8):\n",
    "    print(tall)\n",
    "\n",
    "    \n",
    "for tall in range(10, 0, -1):\n",
    "    print(tall)"
   ]
  },
  {
   "cell_type": "code",
   "execution_count": 11,
   "metadata": {},
   "outputs": [
    {
     "name": "stdout",
     "output_type": "stream",
     "text": [
      "navn\n",
      "alder\n",
      "yrke\n",
      "favorittaktivitet\n",
      "favorittdrikk\n",
      "123\n"
     ]
    }
   ],
   "source": [
    "ravi = {\n",
    "    \"navn\": \"David Ravi\",\n",
    "    \"alder\": 43,\n",
    "    \"yrke\": \"mattelærer\",\n",
    "    \"favorittaktivitet\": \"gaming\",\n",
    "    \"favorittdrikk\": \"databrus\",\n",
    "    123: \"favorittall\" \n",
    "}   # nøkkel : verdi\n",
    "\n",
    "for nøkkel in ravi:\n",
    "    print(nøkkel)\n",
    "# en for løkke som looper gjennom en ordbok vil gå gjennom alle nøklene\n",
    "# variablene som opprettes i en for løkke som går gjennom en ordbok vil etter tur ha verdiene til nøklene i ordboka\n",
    "for nøkkel, verdi in ravi.items():\n",
    "    print(nøkkel, verdi)"
   ]
  },
  {
   "cell_type": "code",
   "execution_count": null,
   "metadata": {},
   "outputs": [],
   "source": [
    "print(f\"{favoritt[\"navn\"]} ({favoritt[\"alder\"]})\")"
   ]
  },
  {
   "cell_type": "code",
   "execution_count": null,
   "metadata": {},
   "outputs": [],
   "source": []
  }
 ],
 "metadata": {
  "kernelspec": {
   "display_name": "Python 3",
   "language": "python",
   "name": "python3"
  },
  "language_info": {
   "codemirror_mode": {
    "name": "ipython",
    "version": 3
   },
   "file_extension": ".py",
   "mimetype": "text/x-python",
   "name": "python",
   "nbconvert_exporter": "python",
   "pygments_lexer": "ipython3",
   "version": "3.11.5"
  }
 },
 "nbformat": 4,
 "nbformat_minor": 2
}
