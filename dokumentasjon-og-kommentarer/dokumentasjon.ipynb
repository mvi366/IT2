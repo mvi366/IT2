{
 "cells": [
  {
   "cell_type": "code",
   "execution_count": 1,
   "metadata": {},
   "outputs": [
    {
     "name": "stdout",
     "output_type": "stream",
     "text": [
      "hallo\n"
     ]
    }
   ],
   "source": [
    "print(\"hallo\")\n"
   ]
  },
  {
   "cell_type": "markdown",
   "metadata": {},
   "source": [
    "# Dokumentasjon og kommentarer\n",
    "\n",
    "## Plan\n",
    "\n",
    "1. hvorfor kommentere/dokumentere\n",
    "2. kommentarer vs. dokumentasjon\n",
    "3. kommentarer \n",
    "   1. hvordan?\n",
    "   2. trenger vi egentlig kommentarer?\n",
    "4. type hinting\n",
    "5. docstrings\n",
    "\n",
    "## oppgaver\n",
    "\n",
    "- 3.17 - 3.20 på it2.thorcc.no\n",
    "- prosjektarbeid \n"
   ]
  },
  {
   "cell_type": "markdown",
   "metadata": {},
   "source": [
    "## hvorfor kommentere/dokumentere kode?\n",
    "\n",
    "\"code is more often read than written\" - Guido von Rossum (skaperen av python)\n"
   ]
  },
  {
   "cell_type": "markdown",
   "metadata": {},
   "source": [
    "## kommentarer"
   ]
  },
  {
   "cell_type": "code",
   "execution_count": null,
   "metadata": {},
   "outputs": [],
   "source": [
    "# kommentarer i python lages med # (hashtag)\n",
    "\"\"\"dette er også en kommentar\"\"\"\n",
    "\"\"\"kommentarer med tre anførselstegn kan \n",
    "gå over fler linjer\"\"\"\n",
    "\n",
    "# i følge pythons stilguiden (PEP 8) en kommentar skal ikke være lenger enn 72 tegn\n",
    "# hvis en kommentar er lengre enn 72 tegn legger vi på et linjeskift\n",
    "# det er vanlig p bruke hashtags selv om vi har lange kommentarer som går over flere linjer\n"
   ]
  },
  {
   "cell_type": "code",
   "execution_count": null,
   "metadata": {},
   "outputs": [],
   "source": [
    "def ta_på_regntøy(vær):\n",
    "    # sjekker om været er regn\n",
    "    if vær == \"regn\": \n",
    "        # returnerer True hvis været er regn\n",
    "        return True\n",
    "    else:\n",
    "        # returnerer False hvis været ikke er regn\n",
    "        return False\n",
    "    \n",
    "def tpr(v):\n",
    "    if v == \"regn\":\n",
    "        return True\n",
    "    else:\n",
    "        return False"
   ]
  },
  {
   "cell_type": "code",
   "execution_count": null,
   "metadata": {},
   "outputs": [],
   "source": [
    "# 3.17\n",
    "\n",
    "# 2. Hva gjør koden?\n",
    "# TODO svar på oppgave 2 her\n",
    "# koden finner arealet til en trekant ved å bruke variabler for grunnlinjen og høyden, \n",
    "# og en variabel for arealet som er grunnlinjen ganget med høyden, delt på to. koden printer arealet ut til slutt\n",
    " \n",
    "# 3. Legg på kommentarer slik at koden blir forståelig for andre\n",
    "# spør brukeren om lengden av grunnlinjen i cm, som blir lagret som en variabel \"grunnlinje\"\n",
    "grunnlinje = float(input(\"Grunnlinje (cm): \")) \n",
    "# spør brukeren om høyden i cm, som blir lagret som en variabel \"høyde\"\n",
    "høyde = float(input(\"Høyde (cm): \"))\n",
    " \n",
    "areal = grunnlinje*høyde/2\n",
    "print(f\"Arealet er {areal} cm^2\")\n",
    " \n",
    "## ------\n",
    "# 4. Fjern alle kommentarer og endre koden slik at den blir enklere å forstå\n",
    "# 5. Se over koden og legg på eventuelle nødvendige kommentarer\n",
    " \n",
    "# TODO Lim inn koden på nytt her"
   ]
  },
  {
   "cell_type": "code",
   "execution_count": null,
   "metadata": {},
   "outputs": [],
   "source": [
    "# 2. Hva gjør koden?\n",
    "# TODO svar på oppgave 2 her\n",
    " \n",
    "# 3. Legg på kommentarer slik at koden blir forståelig for andre\n",
    "f1 = [\n",
    "    {\"navn\": \"Max Verstappen\", \"nasjonalitet\": \"nederlandsk\", \"team\": \"Red Bull Racing\", \"bilnummer\": 1},\n",
    "    {\"navn\": \"Sergio Perez\", \"nasjonalitet\": \"meksikansk\", \"team\": \"Red Bull Racing\", \"bilnummer\": 11},\n",
    "    {\"navn\": \"Lewis Hamilton\", \"nasjonalitet\": \"britisk\", \"team\": \"Mercedes\", \"bilnummer\": 44},\n",
    "    {\"navn\": \"George Russell\", \"nasjonalitet\": \"britisk\", \"team\": \"Mercedes\", \"bilnummer\": 63},\n",
    "    {\"navn\": \"Charles Leclerc\", \"nasjonalitet\": \"monegaskisk\", \"team\": \"Ferrari\", \"bilnummer\": 16},\n",
    "    {\"navn\": \"Kevin Magnussen\", \"nasjonalitet\": \"dansk\", \"team\": \"Haas F1 Team\", \"bilnummer\": 20},\n",
    "    {\"navn\": \"Nico Hulkenberg\", \"nasjonalitet\": \"tysk\", \"team\": \"Haas F1 Team\", \"bilnummer\": 27}\n",
    "]\n",
    " \n",
    "antall = {}\n",
    " \n",
    "for s in f1:         \n",
    "  if s['nasjonalitet'] not in antall:\n",
    "    antall[s['nasjonalitet']] = 1\n",
    "  else:\n",
    "    antall[s['nasjonalitet']] += 1\n",
    " \n",
    "print(antall[\"britisk\"])\n",
    "print(antall[\"spansk\"])\n",
    " \n",
    "## ------\n",
    "# 4. Fjern alle kommentarer og endre koden slik at den blir enklere å forstå\n",
    "# 5. Se over koden, og legg på eventuelle kommentarer\n",
    " \n",
    "# TODO Lim inn koden på nytt under her, og endre koden:\n",
    " "
   ]
  },
  {
   "cell_type": "code",
   "execution_count": 2,
   "metadata": {},
   "outputs": [
    {
     "data": {
      "text/plain": [
       "25.0"
      ]
     },
     "execution_count": 2,
     "metadata": {},
     "output_type": "execute_result"
    }
   ],
   "source": [
    "# type hinting\n",
    "\n",
    "def areal_trekant(grunnlinje: float, høyde: float) -> float:\n",
    "    return grunnlinje * høyde / 2\n",
    "\n",
    "areal_trekant(10,5)\n"
   ]
  },
  {
   "cell_type": "code",
   "execution_count": null,
   "metadata": {},
   "outputs": [],
   "source": [
    "# docstring\n",
    "\n",
    "# docstrings er dokumentasjon som vises når vi bruker en funksjon eller klasse i vs code. \n",
    "# de skriver mellom tre anførselstegn\n",
    "# det er vanlig å beskrive hva funksjonen gjør og hva parameterene er\n",
    "\n",
    "def areal_trekant(grunnlinje: float, høyde: float) -> float:\n",
    "    \"\"\"\n",
    "    en funksjon som regner ut areal av trekanter\n",
    "\n",
    "    parametere\n",
    "        grunnlinje (float): grunnlinjen i trekanten\n",
    "        høyde (float): høyden i trekanten\n",
    "    \"\"\"\n",
    "    return grunnlinje * høyde / 2\n",
    "\n",
    "areal_trekant(10,5)\n",
    "areal_trekant()\n"
   ]
  },
  {
   "cell_type": "markdown",
   "metadata": {},
   "source": [
    "## type hinting og docstrings\n",
    "\n",
    "type hinting og docstrings er spesielle kommentarer som brukes for å dokumetere kode. \n",
    "\n",
    "dokumentasjon av kode lages for å hjelpe utviklere å bruke koden.\n",
    "for eksempel dokumentasjonen som er laget for å forklare random.randint-funksjonen er laget for å forklare utviklere hvordan funksjonen skal brukes.\n",
    "\n",
    "\"vanlige\" kommentarer er laget for de som skal endre/forbedre noe, mens dokumentasjon lages for programmerere som skal bruke kode."
   ]
  },
  {
   "cell_type": "code",
   "execution_count": null,
   "metadata": {},
   "outputs": [],
   "source": [
    "class Hund:\n",
    "\n",
    "    \"\"\"\n",
    "    en klasse for hunder\n",
    "\n",
    "    attributter\n",
    "        navn (str): navnet til hunden\n",
    "        alder (int): alderen til hunden\n",
    "        rase (str): rasen til hunden\n",
    "    \n",
    "    metoder\n",
    "        bjeff(): returnerer en streng som sier at navnet til hunden sier: woof\n",
    "        viftpaahalen(): returnerer en streng som sier at navnet på hunden vifter på haler\n",
    "        info(): printer en streng med informasjon om hunden\n",
    "    \n",
    "    \"\"\"\n",
    "    def __init__(self, navn, alder, rase):\n",
    "        self.navn = navn\n",
    "        self.alder = alder\n",
    "        self.rase = rase\n",
    " \n",
    "    def bjeff(self):\n",
    "        return f\"{self.navn} sier: Woof!\"\n",
    " \n",
    "    def viftPaaHalen(self):\n",
    "        return f\"{self.navn} vifter på halen!\"\n",
    " \n",
    "    def info(self):\n",
    "        return f\"{self.navn} er en {self.alder} år gammel {self.rase}.\"\n",
    " \n",
    " \n",
    "# Test av klassen\n",
    "if __name__ == \"__main__\":\n",
    "    min_hund = Hund(\"Rex\", 5, \"Schäfer\")\n",
    "    print(min_hund.bjeff())\n",
    "    print(min_hund.viftPaaHalen())\n",
    "    print(min_hund.info())"
   ]
  }
 ],
 "metadata": {
  "kernelspec": {
   "display_name": "Python 3",
   "language": "python",
   "name": "python3"
  },
  "language_info": {
   "codemirror_mode": {
    "name": "ipython",
    "version": 3
   },
   "file_extension": ".py",
   "mimetype": "text/x-python",
   "name": "python",
   "nbconvert_exporter": "python",
   "pygments_lexer": "ipython3",
   "version": "3.11.5"
  }
 },
 "nbformat": 4,
 "nbformat_minor": 2
}
