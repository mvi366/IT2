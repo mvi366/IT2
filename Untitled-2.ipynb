{
 "cells": [
  {
   "cell_type": "code",
   "execution_count": null,
   "metadata": {},
   "outputs": [],
   "source": [
    "# oppgave 2.12\n",
    "\n",
    "'''pseudo\n",
    "\n",
    "SET i TO 0\n",
    "FOR hver i LESSER THAN n - 1\n",
    "  IF a[i] GREATER THAN a[i+1]    \n",
    "    CALL byttPlass()\n",
    "  ENDIF\n",
    "ENDFOR\n",
    "\n",
    "'''\n",
    "\n",
    "# a) svar alternativ 3\n",
    "\n",
    "filmer = []\n",
    "for i in data:\n",
    "    film = i['nominations']\n",
    "    for i in film:\n",
    "        filmer.append(i['movie'])\n",
    "\n",
    "antall_nominasjoner = {}\n",
    "for film in filmer:\n",
    "    if film not in antall:\n",
    "        antall_nominasjoner[film] = 1\n",
    "    else:\n",
    "        antall_nominasjoner[film] += 1\n",
    "\n",
    "nominasjoner_liste = list(antall_nominasjoner.items())\n",
    "nominasjoner_sortert = sorted(nominasjoner_liste, key=lambda parti: parti[1])\n",
    "film_med_flest_nominasjoner = nominasjoner_sortert[-1]\n",
    "\n",
    "\n",
    "\n"
   ]
  }
 ],
 "metadata": {
  "language_info": {
   "name": "python"
  }
 },
 "nbformat": 4,
 "nbformat_minor": 2
}
