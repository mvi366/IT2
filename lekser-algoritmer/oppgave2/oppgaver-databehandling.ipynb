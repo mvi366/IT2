{
 "cells": [
  {
   "cell_type": "code",
   "execution_count": 6,
   "metadata": {},
   "outputs": [
    {
     "ename": "SyntaxError",
     "evalue": "invalid syntax (801295657.py, line 2)",
     "output_type": "error",
     "traceback": [
      "\u001b[0;36m  Cell \u001b[0;32mIn[6], line 2\u001b[0;36m\u001b[0m\n\u001b[0;31m    IMDB Topp 250\u001b[0m\n\u001b[0m         ^\u001b[0m\n\u001b[0;31mSyntaxError\u001b[0m\u001b[0;31m:\u001b[0m invalid syntax\n"
     ]
    }
   ],
   "source": [
    "# oppgave 2\n",
    "\n",
    "\n",
    "import json\n",
    "fil = open(\"imbd_top250.json\", encoding=\"utf-8\")\n",
    "filmer = json.load(fil)\n",
    "# data for koden\n",
    "\n",
    "\n",
    "import json\n",
    "with open(\"imdb_top250.json\") as fil:\n",
    "    data = json.load(fil)\n",
    "print(type(data))\n",
    "data[0]\n",
    "\n",
    "\n",
    "øverst_på_listen = data[0]\n",
    "øverst_navn = øverst_på_listen[\"navn\"]\n",
    "øverst_regissør = øverst_på_listen[\"regissører\"][0]\n",
    "print(f\"Øverst på listen: {øverst_navn}, Regissert av: {øverst_regissør}\")\n",
    "\n",
    "\n",
    "\n",
    "\n"
   ]
  },
  {
   "cell_type": "code",
   "execution_count": null,
   "metadata": {},
   "outputs": [],
   "source": [
    "## oppgave 2\n",
    "\n",
    "IMDB Topp 250\n",
    "\n",
    "1. Hvilken film ligger øverst på listen og hvem har regissert den?\n",
    "2. Hva er gjennomsnittskarakteren til alle filmene på listen?\n",
    "3. Hva er gjennomsnittskarakteren til de ti første filmene?\n",
    "4. Hvilken regissør har regissert flest filmer på listen?\n",
    "For hver film er regisørrer en liste. Her holder det med første regissør i listen.\n",
    "Bonus: Alle regisørrene i regissørlistene skal telles med.\n"
   ]
  },
  {
   "cell_type": "code",
   "execution_count": 5,
   "metadata": {},
   "outputs": [
    {
     "name": "stdout",
     "output_type": "stream",
     "text": [
      "Gjennomsnittskarakteren til alle filmene:  8.32199999999999\n"
     ]
    }
   ],
   "source": [
    "gjennomsnitt_totalt = sum(film[\"karakter\"] for film in data) / len(data)\n",
    "print(\"Gjennomsnittskarakteren til alle filmene: \", gjennomsnitt_totalt)"
   ]
  },
  {
   "cell_type": "code",
   "execution_count": 3,
   "metadata": {},
   "outputs": [
    {
     "name": "stdout",
     "output_type": "stream",
     "text": [
      "Gjennomsnittskarakteren til de ti første filmene:  8.290000000000001\n"
     ]
    }
   ],
   "source": [
    "gjennomsnitt_ti_første = sum(film[\"karakter\"] for film in data[:10]) / 10\n",
    "\n",
    "print(\"Gjennomsnittskarakteren til de ti første filmene: \", gjennomsnitt_ti_første)"
   ]
  },
  {
   "cell_type": "code",
   "execution_count": null,
   "metadata": {},
   "outputs": [],
   "source": [
    "\n",
    "import json\n",
    "fil = open(\"imbd_top250.json\", encoding=\"utf-8\")\n",
    "filmer = json.load(fil)\n",
    "\n",
    "\n"
   ]
  }
 ],
 "metadata": {
  "kernelspec": {
   "display_name": "Python 3",
   "language": "python",
   "name": "python3"
  },
  "language_info": {
   "codemirror_mode": {
    "name": "ipython",
    "version": 3
   },
   "file_extension": ".py",
   "mimetype": "text/x-python",
   "name": "python",
   "nbconvert_exporter": "python",
   "pygments_lexer": "ipython3",
   "version": "3.11.5"
  }
 },
 "nbformat": 4,
 "nbformat_minor": 2
}
