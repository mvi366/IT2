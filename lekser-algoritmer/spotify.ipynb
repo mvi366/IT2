{
 "cells": [
  {
   "cell_type": "code",
   "execution_count": 1,
   "metadata": {},
   "outputs": [
    {
     "name": "stdout",
     "output_type": "stream",
     "text": [
      "hallo, verden\n"
     ]
    }
   ],
   "source": [
    "print(\"hallo, verden\")"
   ]
  },
  {
   "cell_type": "code",
   "execution_count": 7,
   "metadata": {},
   "outputs": [
    {
     "name": "stdout",
     "output_type": "stream",
     "text": [
      "<class 'list'>\n"
     ]
    },
    {
     "data": {
      "text/plain": [
       "{'navn': 'La Diabla',\n",
       " 'artist': 'Xavi',\n",
       " 'bilde_url': 'https://i.scdn.co/image/ab67616d00001e021501c770de50a22b25d67611',\n",
       " 'plassering': 1,\n",
       " 'forrige_plassering': 1,\n",
       " 'topplassering': 1,\n",
       " 'topp_dato': '2024-01-11',\n",
       " 'uker_paa_listen': 5,\n",
       " 'antall_streams': 34195950}"
      ]
     },
     "execution_count": 7,
     "metadata": {},
     "output_type": "execute_result"
    }
   ],
   "source": [
    "import json\n",
    "with open(\"algoritmer/spotify-weekly-top-songs-global-uke2-2023.json\") as fil:\n",
    "    data = json.load(fil)\n",
    "print(type(data))\n",
    "data[0] #henter ut det første elementet i listen ( trenger ikke print i notebooks)\n",
    "\n"
   ]
  },
  {
   "cell_type": "code",
   "execution_count": null,
   "metadata": {},
   "outputs": [
    {
     "name": "stdout",
     "output_type": "stream",
     "text": [
      "Believer 358\n"
     ]
    }
   ],
   "source": [
    "høyest = data[0][\"uker_paa_listen\"]\n",
    "høyest_sang = data[0][\"navn\"]\n",
    "for sang in data:\n",
    "    if sang[\"uker_paa_listen\"] > høyest:\n",
    "        høyest = sang[\"uker_paa_listen\"]\n",
    "        høyest_sang = sang[\"navn\"]\n",
    "print(høyest_sang, høyest)"
   ]
  },
  {
   "cell_type": "code",
   "execution_count": null,
   "metadata": {},
   "outputs": [],
   "source": [
    "total = 0\n",
    "antall = 0\n",
    "for sang in data: \n",
    "    total += sang[\"antall_streams\"]\n",
    "    antall += 1\n",
    "print(\"gjennomsnittlig antall streams: \", total / antall)\n"
   ]
  },
  {
   "cell_type": "code",
   "execution_count": null,
   "metadata": {},
   "outputs": [
    {
     "name": "stdout",
     "output_type": "stream",
     "text": [
      "gjennomsnittlig antall streams:  12001729.7\n"
     ]
    }
   ],
   "source": [
    "total = 0\n",
    "antall = 0\n",
    "for sang in data:\n",
    "    if sang[\"artist\"] == \"Taylor Swift\":\n",
    "        total += sang[\"antall_streams\"]\n",
    "        antall += 1\n",
    "print(\"gjennomsnittlig antall streams: \", total / antall)"
   ]
  },
  {
   "cell_type": "code",
   "execution_count": null,
   "metadata": {},
   "outputs": [],
   "source": [
    "total = 0\n",
    "antall = 0\n",
    "for sang in data:\n",
    "    if sang[\"artist\"] == \"Taylor Swift\":\n",
    "        total += sang[\"antall_streams\"]\n",
    "        \n",
    "print(\"gjennomsnittlig antall streams: \", total)"
   ]
  },
  {
   "cell_type": "code",
   "execution_count": null,
   "metadata": {},
   "outputs": [],
   "source": [
    "plassering = 0\n",
    "\n",
    "for sang in data:\n",
    "    plassering_endring = sang[\"forrige_plassering\"] - sang[\"plassering\"]\n",
    "    if plassering_endring > plassering:\n",
    "        plassering = plassering_endring\n",
    "        gikk_opp_flest_sang = sang\n",
    "\n",
    "    "
   ]
  }
 ],
 "metadata": {
  "kernelspec": {
   "display_name": "Python 3",
   "language": "python",
   "name": "python3"
  },
  "language_info": {
   "codemirror_mode": {
    "name": "ipython",
    "version": 3
   },
   "file_extension": ".py",
   "mimetype": "text/x-python",
   "name": "python",
   "nbconvert_exporter": "python",
   "pygments_lexer": "ipython3",
   "version": "3.11.5"
  }
 },
 "nbformat": 4,
 "nbformat_minor": 2
}
